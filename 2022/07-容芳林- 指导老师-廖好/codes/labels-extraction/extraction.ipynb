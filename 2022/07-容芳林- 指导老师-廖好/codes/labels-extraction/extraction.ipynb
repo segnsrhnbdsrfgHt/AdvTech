{
 "cells": [
  {
   "cell_type": "code",
   "execution_count": 33,
   "metadata": {},
   "outputs": [],
   "source": [
    "import pandas as pd "
   ]
  },
  {
   "cell_type": "markdown",
   "metadata": {},
   "source": [
    "### 首先从labels 文件中提取信息"
   ]
  },
  {
   "cell_type": "code",
   "execution_count": 34,
   "metadata": {},
   "outputs": [],
   "source": [
    "def contain_apsect(target):\n",
    "    for i in target:\n",
    "        if i != '0':\n",
    "            return True\n",
    "    return False"
   ]
  },
  {
   "cell_type": "code",
   "execution_count": 38,
   "metadata": {},
   "outputs": [],
   "source": [
    "def get_info(data_path):\n",
    "    labels=pd.read_csv(data_path,header=None)\n",
    "    # labels.info\n",
    "    label_list = labels.values.tolist()\n",
    "    # print(len(label_list))   \n",
    "    # 这个是正常顺序的\n",
    "    sentences=[]\n",
    "    targets=[]\n",
    "    polarity=[]\n",
    "    opinions=[]\n",
    "\n",
    "    for i in range(0,len(label_list),4):\n",
    "        sentence=[]\n",
    "        target =[]\n",
    "        target_polarity =[]\n",
    "        opinion =[]\n",
    "        for word in label_list[i]:\n",
    "            if not isinstance(word,str):\n",
    "                break\n",
    "            word = word.lower()\n",
    "            sentence.append(word)\n",
    "            \n",
    "        for index in range(len(sentence)):\n",
    "            opinion.append(label_list[i+1][index])\n",
    "            target.append(label_list[i+2][index])\n",
    "            target_polarity.append(label_list[i+3][index])\n",
    "        if not contain_apsect(target=target):\n",
    "            # print(1)\n",
    "            continue\n",
    "        sentences.append(sentence)\n",
    "        targets.append(target)\n",
    "        polarity.append(target_polarity)\n",
    "        opinions.append(opinion)\n",
    "    \n",
    "    return sentences, targets, polarity, opinions"
   ]
  },
  {
   "cell_type": "code",
   "execution_count": 84,
   "metadata": {},
   "outputs": [
    {
     "name": "stderr",
     "output_type": "stream",
     "text": [
      "/tmp/ipykernel_10208/3395467893.py:2: DtypeWarning: Columns (43,44,45,46,47,48,49,50,51,52,53,54,55,56,57,58,59,60,61,62,63,64,65,66,67,68,69,70,71,72,73,74,75,76,77,78,79,80,81,82,83,84,85,86,87,88,89,90,91,92,93,94,95,96,97,98,99,100,101,102,103,104,105,106,107,108,109,110,111,112,113,114,115,116,117,118,119,120,121,122,123,124,125,126,127,128,129,130,131,132,133,134,135,136,137,138,139,140,141,142,143,144,145,146,147,148,149,150,151,152,153,154,155,156,157,158,159,160,161,162,163,164,165,166,167,168,169,170,172,173,174,175,176,177,178,179,180,181,182,183,184,185,186,187,188,189,190,191,192,193,194,195,196,197,198,199,200,201,202,203,204,205,206,207,208,209,210,211,212,213,214,215,216,217,218,219,220,221,222,223,224,225,226,227,229,230,231,232,233,234,235,236,237,238,240,241,242,243,244,245,247,248,249,250,251,252,253,254,255,256,257,258,259,260,261,262,263,264,265,266,267,268,269,270,271,272,273,274,275,276,277,278,279,280,281,282,283,284,285,286,287,288,289,290,291,292,293,294,295,296,297,298,299,300,301,302,303,304,305,306,307,308,309,310,311,312,313,314,315,316,317,318,319,320,321,322,323,324,325,326,327,328,329,330,331,332,333,334,335,337,338,339,340,341,342,343,344,345,346) have mixed types. Specify dtype option on import or set low_memory=False.\n",
      "  labels=pd.read_csv(data_path,header=None)\n",
      "/tmp/ipykernel_10208/3395467893.py:2: DtypeWarning: Columns (54,55,56,57,58,59,60,61,62,63,64,65,66,67,68,69,70,71,72,73,74,75,76,77,78,79,80,81,82,83,84,85,86,87,88,89,90,91,92,93,94,95,96,97,98,99,100,101,102,103,104,105,106,107,108) have mixed types. Specify dtype option on import or set low_memory=False.\n",
      "  labels=pd.read_csv(data_path,header=None)\n",
      "/tmp/ipykernel_10208/3395467893.py:2: DtypeWarning: Columns (57,58,59,60,61,62,63,64,65,66,67,68,69,70,71,72,73,74,75,76,77,78,79) have mixed types. Specify dtype option on import or set low_memory=False.\n",
      "  labels=pd.read_csv(data_path,header=None)\n",
      "/tmp/ipykernel_10208/3395467893.py:2: DtypeWarning: Columns (50,51,52,53,54,55,56,57,58,59,60,61,62,63,64,65,66,67,68,69,70,71,72,73,74,75,76,77,78,79,80,81,82,83,84,85,86,87,88,89,90,91,92,93,94,95,96,97,98,99,100,101,102,103,104,105,106,107,108,109,110,111,112,113,114,115,116,117,118,119,120,121,122,123,124,125,126,127,128,129,130,131,132,133,134,135,136,137,138,139,140,141,142,143,144,145) have mixed types. Specify dtype option on import or set low_memory=False.\n",
      "  labels=pd.read_csv(data_path,header=None)\n"
     ]
    },
    {
     "name": "stdout",
     "output_type": "stream",
     "text": [
      "data-set number is 1507 \n"
     ]
    }
   ],
   "source": [
    "sentences=[]\n",
    "targets=[]\n",
    "polarity=[]\n",
    "opinions=[]\n",
    "for i in range(4):\n",
    "    data_path = '/home/wangshuo/codes/labels-extraction/labels/labels{}.CSV'.format(i+1)\n",
    "    s, t, p, o=get_info(data_path)\n",
    "    sentences.extend(s)\n",
    "    targets.extend(t)\n",
    "    polarity.extend(p)\n",
    "    opinions.extend(o)\n",
    "if len(sentences) != len(targets) or len(sentences) != len(polarity) or len(sentences) != len(opinions):\n",
    "    print(\"wrong\")\n",
    "else:\n",
    "    print(\"data-set number is {} \".format(len(sentences)))\n"
   ]
  },
  {
   "cell_type": "code",
   "execution_count": null,
   "metadata": {},
   "outputs": [],
   "source": [
    "print(sentences)"
   ]
  },
  {
   "cell_type": "code",
   "execution_count": 80,
   "metadata": {},
   "outputs": [
    {
     "name": "stdout",
     "output_type": "stream",
     "text": [
      "146\n"
     ]
    }
   ],
   "source": [
    "max =-1 \n",
    "for sen in sentences:\n",
    "    if len(sen)>max:\n",
    "        max = len(sen)\n",
    "print(max)"
   ]
  },
  {
   "cell_type": "markdown",
   "metadata": {},
   "source": [
    "### 把这几个二维数组变成一维数组\n",
    "其中截断到前50"
   ]
  },
  {
   "cell_type": "code",
   "execution_count": 85,
   "metadata": {},
   "outputs": [],
   "source": [
    "\n",
    "def two2one(array):\n",
    "    new_array = []\n",
    "\n",
    "    for list in array:\n",
    "        list = list[0:50]\n",
    "        new_array.append(' '.join(list))\n",
    "    return new_array"
   ]
  },
  {
   "cell_type": "code",
   "execution_count": 86,
   "metadata": {},
   "outputs": [],
   "source": [
    "sentences = two2one(sentences)\n",
    "targets = two2one(targets)\n",
    "polarity = two2one(polarity)\n",
    "opinions = two2one(opinions)"
   ]
  },
  {
   "cell_type": "code",
   "execution_count": null,
   "metadata": {},
   "outputs": [],
   "source": [
    "print(sentences)"
   ]
  },
  {
   "cell_type": "markdown",
   "metadata": {},
   "source": [
    "### 生成训练集、测试集、验证集 10:3:3\n"
   ]
  },
  {
   "cell_type": "code",
   "execution_count": 45,
   "metadata": {},
   "outputs": [],
   "source": [
    "## 随机生成index\n",
    "import random\n",
    "seed_test = 1111\n",
    "seed_val = 2222\n",
    "\n",
    "data_size = len(sentences)\n",
    "index_list = range(data_size)\n",
    "\n",
    "random.seed(seed_test)\n",
    "test_size = int(data_size*0.3)\n",
    "index_test = random.sample(index_list,test_size)\n",
    "\n",
    "random.seed(seed_val)\n",
    "val_size = int(data_size*0.3)\n",
    "index_val = random.sample(index_list,val_size)"
   ]
  },
  {
   "cell_type": "code",
   "execution_count": 47,
   "metadata": {},
   "outputs": [
    {
     "name": "stdout",
     "output_type": "stream",
     "text": [
      "452\n",
      "452\n",
      "[437, 570, 139, 269, 1486, 528, 49, 467, 163, 168]\n",
      "[445, 404, 705, 1315, 290, 745, 915, 171, 1491, 1032]\n"
     ]
    }
   ],
   "source": [
    "print(len(index_val))\n",
    "print(len(index_test))\n",
    "print(index_val[0:10])\n",
    "print(index_test[0:10])"
   ]
  },
  {
   "cell_type": "code",
   "execution_count": 51,
   "metadata": {},
   "outputs": [],
   "source": [
    "def get_data(array,indexs):\n",
    "    new_array = []\n",
    "    for index in indexs:\n",
    "        new_array.append(array[index])\n",
    "    return new_array"
   ]
  },
  {
   "cell_type": "code",
   "execution_count": 52,
   "metadata": {},
   "outputs": [],
   "source": [
    "def split_data(sentences, targets, polarity, opinions, indexs):\n",
    "    return get_data(sentences,indexs), get_data(targets,indexs),  get_data(polarity,indexs), get_data(opinions,indexs)\n",
    "    \n"
   ]
  },
  {
   "cell_type": "markdown",
   "metadata": {},
   "source": [
    "### 选取划分index中item"
   ]
  },
  {
   "cell_type": "code",
   "execution_count": 88,
   "metadata": {},
   "outputs": [],
   "source": [
    "test_sentences, test_targets,test_polar,test_opi = split_data(sentences, targets, polarity, opinions, index_test)\n",
    "val_sentences, val_targets,val_polar,val_opi = split_data(sentences, targets, polarity, opinions, index_val)\n"
   ]
  },
  {
   "cell_type": "markdown",
   "metadata": {},
   "source": [
    "### 划分后的写入到文件中"
   ]
  },
  {
   "cell_type": "code",
   "execution_count": 55,
   "metadata": {},
   "outputs": [],
   "source": [
    "def write_path(path,array):\n",
    "    with open(path,'w') as f :\n",
    "        f.write('\\n'.join(array))\n",
    "    f.close()"
   ]
  },
  {
   "cell_type": "code",
   "execution_count": null,
   "metadata": {},
   "outputs": [],
   "source": [
    "print(sentences)"
   ]
  },
  {
   "cell_type": "code",
   "execution_count": 56,
   "metadata": {},
   "outputs": [],
   "source": [
    "import os \n",
    "def write_file(sentences, targets, polarity, opinions,data_path):\n",
    "    sentences_path = os.path.join(data_path,'sentence.txt')\n",
    "    targets_path = os.path.join(data_path,'target.txt')\n",
    "    polarity_path = os.path.join(data_path,'target_polarity.txt')\n",
    "    opinions_path = os.path.join(data_path,'opinion.txt')\n",
    "    write_path(sentences_path,sentences)\n",
    "    write_path(targets_path,targets)\n",
    "    write_path(polarity_path,polarity)\n",
    "    write_path(opinions_path,opinions)"
   ]
  },
  {
   "cell_type": "code",
   "execution_count": 89,
   "metadata": {},
   "outputs": [],
   "source": [
    "train_path = '/home/wangshuo/codes/labels-extraction/cell/train'\n",
    "test_path = '/home/wangshuo/codes/labels-extraction/cell/test'\n",
    "dev_path = '/home/wangshuo/codes/labels-extraction/cell/dev'\n",
    "write_file(sentences, targets, polarity, opinions,train_path)\n",
    "write_file(test_sentences, test_targets,test_polar,test_opi,test_path)\n",
    "write_file(val_sentences, val_targets,val_polar,val_opi,dev_path)\n"
   ]
  }
 ],
 "metadata": {
  "kernelspec": {
   "display_name": "Python 3.10.0 ('aspect-graph')",
   "language": "python",
   "name": "python3"
  },
  "language_info": {
   "codemirror_mode": {
    "name": "ipython",
    "version": 3
   },
   "file_extension": ".py",
   "mimetype": "text/x-python",
   "name": "python",
   "nbconvert_exporter": "python",
   "pygments_lexer": "ipython3",
   "version": "3.10.0"
  },
  "orig_nbformat": 4,
  "vscode": {
   "interpreter": {
    "hash": "f11c0c716ab9743583ff7d7afb6755268320f5e2d1bba0d96b9ae63d2a43cd8c"
   }
  }
 },
 "nbformat": 4,
 "nbformat_minor": 2
}
